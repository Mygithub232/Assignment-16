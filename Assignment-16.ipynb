{
 "cells": [
  {
   "cell_type": "code",
   "execution_count": 2,
   "metadata": {},
   "outputs": [
    {
     "data": {
      "text/plain": [
       "'in...in...incredible'"
      ]
     },
     "execution_count": 2,
     "metadata": {},
     "output_type": "execute_result"
    }
   ],
   "source": [
    "Question1. \n",
    "\n",
    "Write a function that stutters a word as if someone is struggling to read it. The\n",
    "first two letters are repeated twice with an ellipsis ... and space after each, and then the\n",
    "word is pronounced with a question mark ?.\n",
    "Examples\n",
    "stutter(&quot;incredible&quot;) ➞ &quot;in... in... incredible?&quot;\n",
    "stutter(&quot;enthusiastic&quot;) ➞ &quot;en... en... enthusiastic?&quot;\n",
    "stutter(&quot;outstanding&quot;) ➞ &quot;ou... ou... outstanding?&quot;\n",
    "\n",
    "Hint :- Assume all input is in lower case and at least two characters long.\n",
    "\n",
    "Ans:\n",
    "\n",
    "def stutter(n):\n",
    "    if len(n)> 2:\n",
    "        a = n[0:2]\n",
    "        return a + '...' + a + '...' + n\n",
    "    else:\n",
    "        raise ValueError('string length should be atleast 2 characters long') \n",
    "\n",
    "\n",
    "stutter('incredible')"
   ]
  },
  {
   "cell_type": "code",
   "execution_count": 21,
   "metadata": {},
   "outputs": [
    {
     "name": "stdout",
     "output_type": "stream",
     "text": [
      "Enter radian value4\n",
      "degree = 229.2\n"
     ]
    }
   ],
   "source": [
    "Question 2.\n",
    "\n",
    "Create a function that takes an angle in radians and returns the corresponding\n",
    "angle in degrees rounded to one decimal place.\n",
    "Examples\n",
    "radians_to_degrees(1) ➞ 57.3\n",
    "radians_to_degrees(20) ➞ 1145.9\n",
    "radians_to_degrees(50) ➞ 2864.8\n",
    "\n",
    "Ans:\n",
    "    \n",
    "def Convert(radian):\n",
    "    pi = 3.14159\n",
    "    # Simply used the formula\n",
    "    degree = radian * (180/pi)\n",
    "    return round(degree,1)\n",
    " \n",
    "# Driver Code\n",
    "radian = int(input('Enter radian value'))\n",
    "print(\"degree =\",(Convert(radian)))"
   ]
  },
  {
   "cell_type": "code",
   "execution_count": 27,
   "metadata": {},
   "outputs": [
    {
     "name": "stdout",
     "output_type": "stream",
     "text": [
      "True 5 is Curzon number\n",
      "False 10 is not a Curzon number\n"
     ]
    }
   ],
   "source": [
    "Question 3. In this challenge, establish if a given integer num is a Curzon number. If 1 plus\n",
    "2 elevated to num is exactly divisible by 1 plus 2 multiplied by num, then num is a Curzon\n",
    "number.\n",
    "Given a non-negative integer num, implement a function that returns True if num is a Curzon\n",
    "number, or False otherwise.\n",
    "Examples\n",
    "is_curzon(5) ➞ True\n",
    "# 2 ** 5 + 1 = 33\n",
    "# 2 * 5 + 1 = 11\n",
    "# 33 is a multiple of 11\n",
    "is_curzon(10) ➞ False\n",
    "# 2 ** 10 + 1 = 1025\n",
    "# 2 * 10 + 1 = 21\n",
    "# 1025 is not a multiple of 21\n",
    "is_curzon(14) ➞ True\n",
    "# 2 ** 14 + 1 = 16385\n",
    "# 2 * 14 + 1 = 29\n",
    "# 16385 is a multiple of 29\n",
    "\n",
    "Ans:\n",
    "    \n",
    "# Function to check if a number  is a Curzon number or not\n",
    "\n",
    "def checkIfCurzonNumber(N):\n",
    " \n",
    "    powerTerm, productTerm = 0, 0\n",
    " \n",
    "    # Find 2^N + 1\n",
    "    powerTerm = pow(2, N) + 1\n",
    " \n",
    "    # Find 2*N + 1\n",
    "    productTerm = 2 * N + 1\n",
    " \n",
    "    # Check for divisibility\n",
    "    if (powerTerm % productTerm == 0):\n",
    "        print(\"True \" + str(N) + ' is Curzon number')\n",
    "    else:\n",
    "        print(\"False \" + str(N) + ' is not a Curzon number')\n",
    " \n",
    "# Driver code\n",
    "if __name__ == '__main__':\n",
    "     \n",
    "    N = 5\n",
    "    checkIfCurzonNumber(N)\n",
    " \n",
    "    N = 10\n",
    "    checkIfCurzonNumber(N)\n",
    " "
   ]
  },
  {
   "cell_type": "code",
   "execution_count": 28,
   "metadata": {},
   "outputs": [
    {
     "name": "stdout",
     "output_type": "stream",
     "text": [
      "Area: 41.5692\n"
     ]
    }
   ],
   "source": [
    "Question 4.Given the side length x find the area of a hexagon.\n",
    "\n",
    "Examples\n",
    "area_of_hexagon(1) ➞ 2.6\n",
    "area_of_hexagon(2) ➞ 10.4\n",
    "area_of_hexagon(3) ➞ 23.4\n",
    "\n",
    "Ans:\n",
    "    \n",
    "# area of a Hexagon\n",
    "import math\n",
    " \n",
    "# Function for calculating\n",
    "# area of the hexagon.\n",
    "def hexagonArea(s):\n",
    "     \n",
    "    return ((3 * math.sqrt(3) *\n",
    "            (s * s)) / 2);\n",
    "     \n",
    "# Driver code    \n",
    "if __name__ == \"__main__\" :\n",
    " \n",
    "    # length of a side.\n",
    "    s = 4\n",
    " \n",
    "    print(\"Area:\",\"{0:.4f}\" .\n",
    "           format(hexagonArea(s)))\n",
    " "
   ]
  },
  {
   "cell_type": "code",
   "execution_count": 39,
   "metadata": {},
   "outputs": [
    {
     "data": {
      "text/plain": [
       "'binary representation of 5 is : 101'"
      ]
     },
     "execution_count": 39,
     "metadata": {},
     "output_type": "execute_result"
    }
   ],
   "source": [
    "Question 5. Create a function that returns a base-2 (binary) representation of a base-10\n",
    "(decimal) string number. To convert is simple: ((2) means base-2 and (10) means base-10)\n",
    "010101001(2) = 1 + 8 + 32 + 128.\n",
    "Going from right to left, the value of the most right bit is 1, now from that every bit to the left\n",
    "will be x2 the value, value of an 8 bit binary numbers are (256, 128, 64, 32, 16, 8, 4, 2, 1).\n",
    "Examples\n",
    "binary(1) ➞ &quot;1&quot;\n",
    "# 1*1 = 1\n",
    "binary(5) ➞ &quot;101&quot;\n",
    "# 1*1 + 1*4 = 5\n",
    "binary(10) ➞ &quot;1010&quot;\n",
    "# 1*2 + 1*8 = 10\n",
    "\n",
    "Ans:\n",
    "    \n",
    "def binary(n):\n",
    "    b = bin(n)\n",
    "    return \"binary representation of \" + str(n) + \" is : \" + b[2:]\n",
    "\n",
    "#Calling function\n",
    "binary(5)"
   ]
  },
  {
   "cell_type": "code",
   "execution_count": null,
   "metadata": {},
   "outputs": [],
   "source": []
  }
 ],
 "metadata": {
  "kernelspec": {
   "display_name": "Python 3",
   "language": "python",
   "name": "python3"
  },
  "language_info": {
   "codemirror_mode": {
    "name": "ipython",
    "version": 3
   },
   "file_extension": ".py",
   "mimetype": "text/x-python",
   "name": "python",
   "nbconvert_exporter": "python",
   "pygments_lexer": "ipython3",
   "version": "3.8.5"
  }
 },
 "nbformat": 4,
 "nbformat_minor": 4
}
